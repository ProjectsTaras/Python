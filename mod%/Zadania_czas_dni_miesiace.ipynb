{
 "cells": [
  {
   "cell_type": "markdown",
   "id": "4a17e08f",
   "metadata": {},
   "source": [
    "\n",
    "### Zadanie 1 — Godziny\n",
    "\n",
    "Masz zmienną `hour`, która pokazuje aktualną godzinę w formacie 24-godzinnym, oraz zmienną `add`, która pokazuje ile godzin chcesz dodać.  \n",
    "Oblicz nową godzinę i wyświetl wynik w formacie:  \n",
    "\n",
    "> \"Obecnie jest {hour}:00, po {add} godzinach będzie {new_hour}:00\"\n",
    "\n",
    "**Przykład danych wejściowych:**\n",
    "```python\n",
    "hour = 23\n",
    "add = 5\n",
    "```\n"
   ]
  },
  {
   "cell_type": "code",
   "execution_count": null,
   "id": "e5e4cdd6",
   "metadata": {},
   "outputs": [],
   "source": [
    "\n",
    "hour = 23\n",
    "add = 5\n",
    "\n",
    "new_hour = (hour + add) % 24\n",
    "print(f\"Obecnie jest {hour}:00, po {add} godzinach będzie {new_hour}:00\")\n"
   ]
  },
  {
   "cell_type": "markdown",
   "id": "39ac0459",
   "metadata": {},
   "source": [
    "\n",
    "### Zadanie 2 — Dni tygodnia\n",
    "\n",
    "Numeruj dni tygodnia od 1 do 7: 1 = poniedziałek, 2 = wtorek, …, 7 = niedziela.  \n",
    "Masz zmienną `day`, która pokazuje dzisiejszy dzień tygodnia, oraz zmienną `add`, która pokazuje ile dni chcesz dodać.  \n",
    "Oblicz nowy dzień tygodnia i wyświetl wynik w formacie:  \n",
    "\n",
    "> \"Dziś jest dzień {day}, po {add} dniach będzie dzień {new_day}\"\n",
    "\n",
    "**Przykład danych wejściowych:**\n",
    "```python\n",
    "day = 5  # piątek\n",
    "add = 10\n",
    "```\n"
   ]
  },
  {
   "cell_type": "code",
   "execution_count": null,
   "id": "75c18baa",
   "metadata": {},
   "outputs": [],
   "source": [
    "\n",
    "day = 5   # piątek\n",
    "add = 10\n",
    "\n",
    "new_day = (day + add) % 7\n",
    "if new_day == 0:\n",
    "    new_day = 7  # aby niedziela była \"7\", a nie \"0\"\n",
    "\n",
    "print(f\"Dziś jest dzień {day}, po {add} dniach będzie dzień {new_day}\")\n"
   ]
  },
  {
   "cell_type": "markdown",
   "id": "63448759",
   "metadata": {},
   "source": [
    "\n",
    "### Zadanie 3 — Miesiące\n",
    "\n",
    "Numeruj miesiące od 1 do 12:  \n",
    "1 = styczeń, 2 = luty, …, 12 = grudzień.  \n",
    "\n",
    "Masz zmienną `month`, która oznacza aktualny miesiąc, oraz zmienną `add`, która pokazuje, ile miesięcy chcesz dodać.  \n",
    "Oblicz, jaki to będzie miesiąc po dodaniu tej liczby miesięcy.  \n",
    "\n",
    "Wypisz wynik w formacie:  \n",
    "> \"Teraz jest miesiąc {month}, po {add} miesiącach będzie miesiąc {new_month}\"\n",
    "\n",
    "**Przykład danych wejściowych:**\n",
    "```python\n",
    "month = 11   # listopad\n",
    "add = 5\n",
    "```\n",
    "\n",
    "🧩 *Wskazówka:*  \n",
    "Zastanów się, jak w poprzednich zadaniach został użyty operator `%` (reszta z dzielenia), żeby wynik „zawijał się” po osiągnięciu końca (np. po 24 godzinach lub po 7 dniach).  \n",
    "Tutaj rok ma 12 miesięcy — więc zamiast 24 lub 7 użyj odpowiedniej liczby.\n"
   ]
  }
 ],
 "metadata": {},
 "nbformat": 4,
 "nbformat_minor": 5
}