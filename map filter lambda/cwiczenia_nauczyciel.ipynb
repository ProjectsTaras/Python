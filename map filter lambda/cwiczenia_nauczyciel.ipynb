{
 "cells": [
  {
   "cell_type": "markdown",
   "id": "344ff5b3",
   "metadata": {},
   "source": [
    "# 🧩 Ćwiczenia z map(), filter(), lambda, yield i split()\n",
    "Notatnik przygotowany do nauki funkcji w Pythonie."
   ]
  },
  {
   "cell_type": "markdown",
   "id": "4d2f621b",
   "metadata": {},
   "source": [
    "## Zadanie 1: Filtrowanie liczb parzystych\n",
    "Utwórz listę liczb od 1 do 20. Użyj funkcji `filter` i `lambda`, aby wybrać tylko liczby parzyste."
   ]
  },
  {
   "cell_type": "code",
   "execution_count": null,
   "id": "5fd10844",
   "metadata": {},
   "outputs": [],
   "source": [
    "liczby = range(1, 21)\n",
    "parzyste = list(filter(lambda x: x % 2 == 0, liczby))\n",
    "print(parzyste)"
   ]
  },
  {
   "cell_type": "markdown",
   "id": "bbd68593",
   "metadata": {},
   "source": [
    "## Zadanie 2: Kwadraty liczb\n",
    "Utwórz listę liczb od 1 do 10. Za pomocą `map` i `lambda` utwórz nową listę z kwadratami tych liczb."
   ]
  },
  {
   "cell_type": "code",
   "execution_count": null,
   "id": "6b3892ad",
   "metadata": {},
   "outputs": [],
   "source": [
    "liczby = range(1, 11)\n",
    "kwadraty = list(map(lambda x: x ** 2, liczby))\n",
    "print(kwadraty)"
   ]
  },
  {
   "cell_type": "markdown",
   "id": "6adf02fb",
   "metadata": {},
   "source": [
    "## Zadanie 3: Podwajanie liczb nieparzystych\n",
    "Utwórz listę liczb od 1 do 15. Użyj `filter`, aby wybrać tylko liczby nieparzyste, a następnie `map`, aby je podwoić."
   ]
  },
  {
   "cell_type": "code",
   "execution_count": null,
   "id": "46614c7f",
   "metadata": {},
   "outputs": [],
   "source": [
    "liczby = range(1, 16)\n",
    "nieparzyste = filter(lambda x: x % 2 == 1, liczby)\n",
    "podwojone = list(map(lambda x: x * 2, nieparzyste))\n",
    "print(podwojone)"
   ]
  },
  {
   "cell_type": "markdown",
   "id": "c2df0310",
   "metadata": {},
   "source": [
    "## Zadanie 4: Generator kwadratów\n",
    "Napisz funkcję-generator `kwadraty(n)`, która zwraca kolejne kwadraty liczb od 0 do n-1. Wypisz wszystkie wartości."
   ]
  },
  {
   "cell_type": "code",
   "execution_count": null,
   "id": "07c7b4aa",
   "metadata": {},
   "outputs": [],
   "source": [
    "def kwadraty(n):\n",
    "    for i in range(n):\n",
    "        yield i * i\n",
    "\n",
    "for x in kwadraty(5):\n",
    "    print(x)"
   ]
  },
  {
   "cell_type": "markdown",
   "id": "336da412",
   "metadata": {},
   "source": [
    "## Zadanie 5: Liczby z tekstu\n",
    "Dany jest napis: `'4 7 10 13 20'`. Rozdziel go na liczby, zamień elementy na `int`, a następnie wybierz tylko te, które dzielą się przez 5."
   ]
  },
  {
   "cell_type": "code",
   "execution_count": null,
   "id": "8ae86c75",
   "metadata": {},
   "outputs": [],
   "source": [
    "tekst = '4 7 10 13 20'\n",
    "liczby = map(int, tekst.split())\n",
    "podzielne = list(filter(lambda x: x % 5 == 0, liczby))\n",
    "print(podzielne)"
   ]
  },
  {
   "cell_type": "markdown",
   "id": "ba6c5b1f",
   "metadata": {},
   "source": [
    "## Zadanie 6: Mapa temperatur\n",
    "Masz listę temperatur w stopniach Celsjusza `[0, 10, 20, 30, 40]`. Użyj `map`, aby przeliczyć je na Fahrenheity (wzór: `F = C * 9/5 + 32`)."
   ]
  },
  {
   "cell_type": "code",
   "execution_count": null,
   "id": "d4e44ef5",
   "metadata": {},
   "outputs": [],
   "source": [
    "celsjusz = [0, 10, 20, 30, 40]\n",
    "fahrenheity = list(map(lambda c: c * 9/5 + 32, celsjusz))\n",
    "print(fahrenheity)"
   ]
  },
  {
   "cell_type": "markdown",
   "id": "980d17b4",
   "metadata": {},
   "source": [
    "## Zadanie 7: Filtrowanie imion\n",
    "Masz listę imion `['Anna', 'Bartek', 'Kasia', 'Ola', 'Marek']`. Użyj `filter`, aby wybrać tylko te imiona, które zaczynają się na literę 'A'."
   ]
  },
  {
   "cell_type": "code",
   "execution_count": null,
   "id": "10c85b2f",
   "metadata": {},
   "outputs": [],
   "source": [
    "imiona = ['Anna', 'Bartek', 'Kasia', 'Ola', 'Marek']\n",
    "na_a = list(filter(lambda imie: imie.startswith('A'), imiona))\n",
    "print(na_a)"
   ]
  },
  {
   "cell_type": "markdown",
   "id": "35da55d9",
   "metadata": {},
   "source": [
    "## Zadanie 8: Generator liczb parzystych\n",
    "Napisz generator `parzyste(n)`, który zwraca tylko liczby parzyste mniejsze od n."
   ]
  },
  {
   "cell_type": "code",
   "execution_count": null,
   "id": "de00a076",
   "metadata": {},
   "outputs": [],
   "source": [
    "def parzyste(n):\n",
    "    for i in range(n):\n",
    "        if i % 2 == 0:\n",
    "            yield i\n",
    "\n",
    "for x in parzyste(10):\n",
    "    print(x)"
   ]
  },
  {
   "cell_type": "markdown",
   "id": "3b339874",
   "metadata": {},
   "source": [
    "## Zadanie 9: Łączenie map i filter\n",
    "Utwórz listę liczb od 1 do 20. Najpierw użyj `filter`, aby wybrać tylko liczby podzielne przez 3, a potem `map`, aby zamienić je na ich kwadraty."
   ]
  },
  {
   "cell_type": "code",
   "execution_count": null,
   "id": "538a9fcc",
   "metadata": {},
   "outputs": [],
   "source": [
    "liczby = range(1, 21)\n",
    "podzielne3 = filter(lambda x: x % 3 == 0, liczby)\n",
    "kwadraty = list(map(lambda x: x ** 2, podzielne3))\n",
    "print(kwadraty)"
   ]
  },
  {
   "cell_type": "markdown",
   "id": "0327a1e1",
   "metadata": {},
   "source": [
    "## Zadanie 10: Operacje na tekście\n",
    "Użytkownik wprowadza tekst. Podziel go na słowa (`split`), a następnie za pomocą `map` utwórz listę długości każdego słowa. Użyj `filter`, aby zostawić tylko słowa dłuższe niż 3 znaki."
   ]
  },
  {
   "cell_type": "code",
   "execution_count": null,
   "id": "fcd9935b",
   "metadata": {},
   "outputs": [],
   "source": [
    "tekst = input('Podaj tekst: ')\n",
    "slowa = tekst.split()\n",
    "dlugosci = list(map(len, slowa))\n",
    "dlugie = list(filter(lambda x: x > 3, dlugosci))\n",
    "print(dlugosci)\n",
    "print(dlugie)"
   ]
  }
 ],
 "metadata": {},
 "nbformat": 4,
 "nbformat_minor": 5
}
