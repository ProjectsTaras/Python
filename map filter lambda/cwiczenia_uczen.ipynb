{
 "cells": [
  {
   "cell_type": "markdown",
   "id": "3e091027",
   "metadata": {},
   "source": [
    "# 🧩 Ćwiczenia z map(), filter(), lambda, yield i split()\n",
    "Notatnik przygotowany do nauki funkcji w Pythonie."
   ]
  },
  {
   "cell_type": "markdown",
   "id": "b50c0d47",
   "metadata": {},
   "source": [
    "## Zadanie 1: Filtrowanie liczb parzystych\n",
    "Utwórz listę liczb od 1 do 20. Użyj funkcji `filter` i `lambda`, aby wybrać tylko liczby parzyste."
   ]
  },
  {
   "cell_type": "code",
   "execution_count": null,
   "id": "23805761",
   "metadata": {},
   "outputs": [],
   "source": [
    "# Tu wpisz swoje rozwiązanie"
   ]
  },
  {
   "cell_type": "markdown",
   "id": "b86e1263",
   "metadata": {},
   "source": [
    "## Zadanie 2: Kwadraty liczb\n",
    "Utwórz listę liczb od 1 do 10. Za pomocą `map` i `lambda` utwórz nową listę z kwadratami tych liczb."
   ]
  },
  {
   "cell_type": "code",
   "execution_count": null,
   "id": "f8034f39",
   "metadata": {},
   "outputs": [],
   "source": [
    "# Tu wpisz swoje rozwiązanie"
   ]
  },
  {
   "cell_type": "markdown",
   "id": "82290d00",
   "metadata": {},
   "source": [
    "## Zadanie 3: Podwajanie liczb nieparzystych\n",
    "Utwórz listę liczb od 1 do 15. Użyj `filter`, aby wybrać tylko liczby nieparzyste, a następnie `map`, aby je podwoić."
   ]
  },
  {
   "cell_type": "code",
   "execution_count": null,
   "id": "d3e8710d",
   "metadata": {},
   "outputs": [],
   "source": [
    "# Tu wpisz swoje rozwiązanie"
   ]
  },
  {
   "cell_type": "markdown",
   "id": "7ab66d97",
   "metadata": {},
   "source": [
    "## Zadanie 4: Generator kwadratów\n",
    "Napisz funkcję-generator `kwadraty(n)`, która zwraca kolejne kwadraty liczb od 0 do n-1. Wypisz wszystkie wartości."
   ]
  },
  {
   "cell_type": "code",
   "execution_count": null,
   "id": "8e0a9f98",
   "metadata": {},
   "outputs": [],
   "source": [
    "# Tu wpisz swoje rozwiązanie"
   ]
  },
  {
   "cell_type": "markdown",
   "id": "07f1b44a",
   "metadata": {},
   "source": [
    "## Zadanie 5: Liczby z tekstu\n",
    "Dany jest napis: `'4 7 10 13 20'`. Rozdziel go na liczby, zamień elementy na `int`, a następnie wybierz tylko te, które dzielą się przez 5."
   ]
  },
  {
   "cell_type": "code",
   "execution_count": null,
   "id": "35a887a2",
   "metadata": {},
   "outputs": [],
   "source": [
    "# Tu wpisz swoje rozwiązanie"
   ]
  },
  {
   "cell_type": "markdown",
   "id": "5373ffab",
   "metadata": {},
   "source": [
    "## Zadanie 6: Mapa temperatur\n",
    "Masz listę temperatur w stopniach Celsjusza `[0, 10, 20, 30, 40]`. Użyj `map`, aby przeliczyć je na Fahrenheity (wzór: `F = C * 9/5 + 32`)."
   ]
  },
  {
   "cell_type": "code",
   "execution_count": null,
   "id": "2fb79843",
   "metadata": {},
   "outputs": [],
   "source": [
    "# Tu wpisz swoje rozwiązanie"
   ]
  },
  {
   "cell_type": "markdown",
   "id": "c1df2937",
   "metadata": {},
   "source": [
    "## Zadanie 7: Filtrowanie imion\n",
    "Masz listę imion `['Anna', 'Bartek', 'Kasia', 'Ola', 'Marek']`. Użyj `filter`, aby wybrać tylko te imiona, które zaczynają się na literę 'A'."
   ]
  },
  {
   "cell_type": "code",
   "execution_count": null,
   "id": "76536645",
   "metadata": {},
   "outputs": [],
   "source": [
    "# Tu wpisz swoje rozwiązanie"
   ]
  },
  {
   "cell_type": "markdown",
   "id": "a26442f6",
   "metadata": {},
   "source": [
    "## Zadanie 8: Generator liczb parzystych\n",
    "Napisz generator `parzyste(n)`, który zwraca tylko liczby parzyste mniejsze od n."
   ]
  },
  {
   "cell_type": "code",
   "execution_count": null,
   "id": "59984fbc",
   "metadata": {},
   "outputs": [],
   "source": [
    "# Tu wpisz swoje rozwiązanie"
   ]
  },
  {
   "cell_type": "markdown",
   "id": "a4a6a78d",
   "metadata": {},
   "source": [
    "## Zadanie 9: Łączenie map i filter\n",
    "Utwórz listę liczb od 1 do 20. Najpierw użyj `filter`, aby wybrać tylko liczby podzielne przez 3, a potem `map`, aby zamienić je na ich kwadraty."
   ]
  },
  {
   "cell_type": "code",
   "execution_count": null,
   "id": "8d33a0ab",
   "metadata": {},
   "outputs": [],
   "source": [
    "# Tu wpisz swoje rozwiązanie"
   ]
  },
  {
   "cell_type": "markdown",
   "id": "f72bbc32",
   "metadata": {},
   "source": [
    "## Zadanie 10: Operacje na tekście\n",
    "Użytkownik wprowadza tekst. Podziel go na słowa (`split`), a następnie za pomocą `map` utwórz listę długości każdego słowa. Użyj `filter`, aby zostawić tylko słowa dłuższe niż 3 znaki."
   ]
  },
  {
   "cell_type": "code",
   "execution_count": null,
   "id": "a2b77c7a",
   "metadata": {},
   "outputs": [],
   "source": [
    "# Tu wpisz swoje rozwiązanie"
   ]
  }
 ],
 "metadata": {},
 "nbformat": 4,
 "nbformat_minor": 5
}
